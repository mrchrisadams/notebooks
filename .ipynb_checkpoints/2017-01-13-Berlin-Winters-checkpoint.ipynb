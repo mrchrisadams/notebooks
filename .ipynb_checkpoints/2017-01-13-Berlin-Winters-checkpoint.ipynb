{
 "cells": [
  {
   "cell_type": "markdown",
   "metadata": {},
   "source": [
    "# Is this winter in Berlin gonna freeze our nadgers off?\n",
    "\n",
    "I moved to Berlin in March 2014, after visiting the city in December 2013, to see if I liked it.\n",
    "\n",
    "I clearly did, because it's now my new home.\n",
    "\n",
    "One thing I was expecting though was for the winters to be epic, snow filled seasons that warranted the Stark warning:\n",
    "\n",
    "> Winter is coming.\n",
    "\n",
    "December in 2014 felt pretty mild, and November is still feeling relatively warm, so I now wonder if I've misled about Berlin's winters.\n",
    "\n",
    "### Lets solve this with science!\n",
    "\n",
    "If I look through the data on [Weather Underground][1] over the last few years, I can hope I can see how 2013 and 2014 compared to previous years.\n",
    "\n",
    "This won't tell me if the rest of this winter is going to be cold, but it _will_ give me an idea if my experience of Berlin's winters is typical for the city.\n",
    "\n",
    "\n",
    "[1]: http://wunderground.com/\n"
   ]
  },
  {
   "cell_type": "markdown",
   "metadata": {},
   "source": [
    "\n",
    "## First, lets get our data\n",
    "\n",
    "I've downloaded the last 1 year of data from Weather Underground [here][1], geting the csv file at the bottom.\n",
    "\n",
    "For some reason, I need to copy this to the clipboard then paste it into a text file to create the csv file. Lame, but I don't want to spend time looking into why this is happening.\n",
    "\n",
    "We only really care about Dec to March, as we know the other months aren't that cold.\n",
    "\n"
   ]
  },
  {
   "cell_type": "code",
   "execution_count": null,
   "metadata": {
    "collapsed": true
   },
   "outputs": [],
   "source": [
    "### Next, lets import pandas\n",
    "\n",
    "So, let's fire up pandas, and load it in:\n",
    "\n",
    "\n",
    "\n"
   ]
  },
  {
   "cell_type": "code",
   "execution_count": 10,
   "metadata": {
    "collapsed": true
   },
   "outputs": [],
   "source": [
    "from pandas import *"
   ]
  },
  {
   "cell_type": "code",
   "execution_count": 11,
   "metadata": {
    "collapsed": false
   },
   "outputs": [],
   "source": [
    "%matplotlib inline"
   ]
  },
  {
   "cell_type": "code",
   "execution_count": 20,
   "metadata": {
    "collapsed": false
   },
   "outputs": [
    {
     "data": {
      "text/plain": [
       "['berlin-shorter-2014-2015.csv',\n",
       " 'berlin-shorter-2015-2016.csv',\n",
       " 'Berlin_2010_2011.csv',\n",
       " 'Berlin_2010_2015.csv',\n",
       " 'Berlin_2013.csv',\n",
       " 'Berlin_2013_2014.csv',\n",
       " 'Berlin_2014_2015.csv',\n",
       " 'Berlin_2015_2016.csv',\n",
       " 'comtrade.csv',\n",
       " 'countrymilk.csv',\n",
       " 'London_2014.csv',\n",
       " 'palm-oil-countries.csv',\n",
       " 'palm-oil-world.csv',\n",
       " 'palm-oil.csv',\n",
       " 'WHO POP TB all.csv']"
      ]
     },
     "execution_count": 20,
     "metadata": {},
     "output_type": "execute_result"
    }
   ],
   "source": [
    "import os\n",
    "[f for f in os.listdir('.') if f.endswith('.csv')]"
   ]
  },
  {
   "cell_type": "code",
   "execution_count": 24,
   "metadata": {
    "collapsed": false
   },
   "outputs": [],
   "source": [
    "\n",
    "weather_in_2015 = read_csv('berlin-shorter-2014-2015.csv')\n",
    "weather_in_2016 = read_csv('berlin-shorter-2015-2016.csv')\n",
    "weather_in_2017 = read_csv('berlin-shorter-2016-2017.csv')"
   ]
  },
  {
   "cell_type": "code",
   "execution_count": 29,
   "metadata": {
    "collapsed": false
   },
   "outputs": [],
   "source": [
    "weather_in_2015['CET'] = to_datetime(weather_in_2015['CET'])\n",
    "weather_in_2015.index = weather_in_2015['CET']\n",
    "\n",
    "weather_in_2016['CET'] = to_datetime(weather_in_2016['CET'])\n",
    "weather_in_2016.index = weather_in_2016['CET']\n",
    "\n",
    "weather_in_2017['CET'] = to_datetime(weather_in_2017['CET'])\n",
    "weather_in_2017.index = weather_in_2017['CET']"
   ]
  },
  {
   "cell_type": "code",
   "execution_count": 31,
   "metadata": {
    "collapsed": false
   },
   "outputs": [
    {
     "data": {
      "text/plain": [
       "<matplotlib.axes._subplots.AxesSubplot at 0x10f9d2b50>"
      ]
     },
     "execution_count": 31,
     "metadata": {},
     "output_type": "execute_result"
    },
    {
     "data": {
      "image/png": "[encoded data removed]",
      "text/plain": [
       "<matplotlib.figure.Figure at 0x10fa35d50>"
      ]
     },
     "metadata": {},
     "output_type": "display_data"
    }
   ],
   "source": [
    "weather_in_2015['Mean TemperatureC'].plot(figsize=(10,5))\n",
    "weather_in_2016['Mean TemperatureC'].plot(figsize=(10,5))\n",
    "weather_in_2017['Mean TemperatureC'].plot(figsize=(10,5))"
   ]
  },
  {
   "cell_type": "markdown",
   "metadata": {
    "collapsed": true
   },
   "source": [
    "Okay, so eyeballing this shows that last winter was both warmer and colder.\n",
    "\n",
    "### TODO\n",
    "\n",
    "- remove the interceding months\n",
    "- show all series on one graph\n",
    "- smooth out the curves"
   ]
  },
  {
   "cell_type": "markdown",
   "metadata": {},
   "source": [
    "Lets strip out the data we don't data about"
   ]
  },
  {
   "cell_type": "code",
   "execution_count": 36,
   "metadata": {
    "collapsed": false
   },
   "outputs": [],
   "source": [
    "\n",
    "weather_in_2015_mean = weather_in_2015['Mean TemperatureC']\n",
    "weather_in_2016_mean = weather_in_2016['Mean TemperatureC']\n",
    "weather_in_2017_mean = weather_in_2017['Mean TemperatureC']\n",
    "\n"
   ]
  },
  {
   "cell_type": "code",
   "execution_count": 40,
   "metadata": {
    "collapsed": false
   },
   "outputs": [
    {
     "data": {
      "text/plain": [
       "CET\n",
       "2014-12-01   -3\n",
       "2014-12-02   -3\n",
       "2014-12-03   -1\n",
       "2014-12-04    2\n",
       "2014-12-05    2\n",
       "Name: Mean TemperatureC, dtype: int64"
      ]
     },
     "execution_count": 40,
     "metadata": {},
     "output_type": "execute_result"
    }
   ],
   "source": [
    "weather_in_2015_mean.head()"
   ]
  },
  {
   "cell_type": "markdown",
   "metadata": {},
   "source": [
    "I'm no actually sure how to do this.\n",
    "\n",
    "\n",
    "We want to be able to compare the dates next to each other, but we have inconsistent times."
   ]
  },
  {
   "cell_type": "code",
   "execution_count": null,
   "metadata": {
    "collapsed": true
   },
   "outputs": [],
   "source": []
  }
 ],
 "metadata": {
  "kernelspec": {
   "display_name": "Python 2",
   "language": "python",
   "name": "python2"
  },
  "language_info": {
   "codemirror_mode": {
    "name": "ipython",
    "version": 2
   },
   "file_extension": ".py",
   "mimetype": "text/x-python",
   "name": "python",
   "nbconvert_exporter": "python",
   "pygments_lexer": "ipython2",
   "version": "2.7.13"
  }
 },
 "nbformat": 4,
 "nbformat_minor": 0
}
